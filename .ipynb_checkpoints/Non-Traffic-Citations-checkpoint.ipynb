{
 "cells": [
  {
   "cell_type": "markdown",
   "metadata": {},
   "source": [
    "**Introduction:** Our project is to find the most dangerous neighborhood based on the severity of the citations that are not arrested. I came up with this metric because I am moving off campus next year and am curious about how safe the neighborhood I am moving into it\n",
    "\n",
    "**Metric:** I am using the Non Traffic Citations database"
   ]
  },
  {
   "cell_type": "code",
   "execution_count": 11,
   "metadata": {},
   "outputs": [],
   "source": [
    "import pandas as pd \n",
    "import numpy as np\n",
    "%matplotlib inline\n",
    "import matplotlib.pyplot as plt"
   ]
  },
  {
   "cell_type": "code",
   "execution_count": 12,
   "metadata": {},
   "outputs": [
    {
     "data": {
      "text/plain": [
       "5505 Public Drunkenness                                                                   3162\n",
       "2709(a)(1) Harassment by Physical Contact, or Attempts or Threats                         1561\n",
       "5503(a)(1) DISORDERLY CONDUCT - ENGAGE IN FIGHTING                                        1340\n",
       "627.02(b)(i) Possessing a small amount of marijuana                                       1329\n",
       "601.16(b)(1)(a) Any Person who urinates or defecates in, on, or about any public place    1319\n",
       "                                                                                          ... \n",
       "2707.2(A1.1IVB) PAINTBALL GUN IN VEHICLE W/O BARREL BLOCKING DEVICE                          1\n",
       "459(305) Confinement of Dogs                                                                 1\n",
       "1725 Rental Vehicles.                                                                        1\n",
       "541.02 Parallel and Angle Parking; Permit for Backing to Curb                                1\n",
       "5104 Resisting Arrest or Other Law Enforcement.                                              1\n",
       "Name: OFFENSES, Length: 183, dtype: int64"
      ]
     },
     "execution_count": 12,
     "metadata": {},
     "output_type": "execute_result"
    }
   ],
   "source": [
    "citations = pd.read_csv(\"Citations.csv\", index_col = \"_id\")\n",
    "citations['OFFENSES'].value_counts()"
   ]
  },
  {
   "cell_type": "code",
   "execution_count": 14,
   "metadata": {},
   "outputs": [
    {
     "data": {
      "text/plain": [
       "South Side Flats             3453\n",
       "Central Business District    2027\n",
       "Central Oakland               665\n",
       "North Shore                   577\n",
       "Carrick                       456\n",
       "                             ... \n",
       "St. Clair                       3\n",
       "Mt. Oliver Boro                 3\n",
       "Chartiers City                  3\n",
       "Outside State                   2\n",
       "Outside County                  2\n",
       "Name: NEIGHBORHOOD, Length: 97, dtype: int64"
      ]
     },
     "execution_count": 14,
     "metadata": {},
     "output_type": "execute_result"
    }
   ],
   "source": [
    "citations['NEIGHBORHOOD'].value_counts()"
   ]
  },
  {
   "cell_type": "code",
   "execution_count": null,
   "metadata": {},
   "outputs": [],
   "source": [
    "df = pd.citations({\"Crime\": [\"Sales\", \"Operations\", \n",
    "                                  \"Sales\", \"Sales\", \"Technology\"]})\n",
    "df[\"department\"].value_counts().plot.pie()"
   ]
  },
  {
   "cell_type": "code",
   "execution_count": null,
   "metadata": {},
   "outputs": [],
   "source": []
  }
 ],
 "metadata": {
  "kernelspec": {
   "display_name": "Python 3",
   "language": "python",
   "name": "python3"
  },
  "language_info": {
   "codemirror_mode": {
    "name": "ipython",
    "version": 3
   },
   "file_extension": ".py",
   "mimetype": "text/x-python",
   "name": "python",
   "nbconvert_exporter": "python",
   "pygments_lexer": "ipython3",
   "version": "3.8.3"
  }
 },
 "nbformat": 4,
 "nbformat_minor": 4
}
