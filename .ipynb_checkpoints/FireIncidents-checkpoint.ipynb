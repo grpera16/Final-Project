{
 "cells": [
  {
   "cell_type": "markdown",
   "metadata": {},
   "source": [
    "# Fire Incidents in Pittsburgh"
   ]
  },
  {
   "cell_type": "markdown",
   "metadata": {},
   "source": [
    "**Intro**\n",
    "\n",
    "\n",
    "In this project we will analyze datasets to determine the least \"safe\" neighborhood in Pittsburgh. We are describing \"safety\" as the number of non traffic citations, arrests, and fire incedents in each nieghborhood. The neighborhood with the greatest accumulated total will be the least safe and deemed the worst. \n",
    "I will be focusing on fire responses by establishing seperate groups for the neighborhoods of Pittsburgh and then I will tally for each fire response in the said neighborhoods. The least safe neighborhood by my sub-metric will be the neighborhood with the most fire responses."
   ]
  },
  {
   "cell_type": "code",
   "execution_count": 4,
   "metadata": {},
   "outputs": [
    {
     "name": "stdout",
     "output_type": "stream",
     "text": [
      "('Number of unique items was:', 91)\n",
      "('The unique items were:', array([nan, 'Fineview', 'Fairywood', 'South Side Flats',\n",
      "       'Allegheny Center', 'Lincoln-Lemington-Belmar', 'Carrick',\n",
      "       'Beechview', 'Allentown', 'Beltzhoover', 'Crafton Heights',\n",
      "       'Homewood North', 'Squirrel Hill South', 'Perry North',\n",
      "       'Bedford Dwellings', 'Homewood South', 'East Allegheny',\n",
      "       'Crawford-Roberts', 'Sheraden', 'Middle Hill', 'Strip District',\n",
      "       'East Hills', 'Garfield', 'Greenfield', 'North Shore',\n",
      "       'Spring Hill-City View', 'Central Business District', 'Upper Hill',\n",
      "       'Manchester', 'Overbrook', 'Polish Hill', 'Central Lawrenceville',\n",
      "       'Brookline', 'Marshall-Shadeland', 'North Oakland',\n",
      "       'South Oakland', 'Homewood West', 'East Liberty', 'Hazelwood',\n",
      "       'Squirrel Hill North', 'Friendship', 'West Oakland',\n",
      "       'Terrace Village', 'Brighton Heights', 'Troy Hill', 'Windgap',\n",
      "       'Knoxville', 'Upper Lawrenceville', 'Arlington', 'Elliott',\n",
      "       'South Side Slopes', 'Bloomfield', 'Perry South',\n",
      "       'Central Northside', 'Point Breeze', 'Bluff', 'Mount Washington',\n",
      "       'Point Breeze North', 'Swisshelm Park', 'Banksville', 'Shadyside',\n",
      "       'Spring Garden', 'Regent Square', 'Allegheny West',\n",
      "       'Lower Lawrenceville', 'Larimer', 'Highland Park',\n",
      "       'Stanton Heights', 'Bon Air', 'Glen Hazel', 'Lincoln Place',\n",
      "       'West End', 'Central Oakland', 'Ridgemont', 'Westwood',\n",
      "       'Summer Hill', 'Esplen', 'Morningside', 'Hays', 'Duquesne Heights',\n",
      "       'California-Kirkbride', 'Northview Heights', 'New Homestead',\n",
      "       'Chateau', 'Mount Oliver Borough', 'St. Clair', 'East Carnegie',\n",
      "       'Arlington Heights', 'South Shore', 'Oakwood', 'Chartiers City',\n",
      "       'Mt. Oliver'], dtype=object))\n"
     ]
    }
   ],
   "source": [
    "import pandas as pd\n",
    "\n",
    "fires = pd.read_csv(\"FireIncidents.csv\", sep=\",\")\n",
    "\n",
    "neighborhoods = fires['neighborhood'].unique()\n",
    "nneighborhoods = fires['neighborhood'].nunique()\n",
    "\n",
    "print((\"Number of unique items was:\", nneighborhoods))\n",
    "print((\"The unique items were:\", neighborhoods))"
   ]
  },
  {
   "cell_type": "markdown",
   "metadata": {},
   "source": [
    "**Conclusion**\n",
    "\n",
    "Reflect on how the data-driven determination of “best neighborhood” is the same or different from your personal favorite neighborhood. Each member of the group should write their own response to this."
   ]
  }
 ],
 "metadata": {
  "kernelspec": {
   "display_name": "Python 3",
   "language": "python",
   "name": "python3"
  },
  "language_info": {
   "codemirror_mode": {
    "name": "ipython",
    "version": 3
   },
   "file_extension": ".py",
   "mimetype": "text/x-python",
   "name": "python",
   "nbconvert_exporter": "python",
   "pygments_lexer": "ipython3",
   "version": "3.8.3"
  }
 },
 "nbformat": 4,
 "nbformat_minor": 4
}
